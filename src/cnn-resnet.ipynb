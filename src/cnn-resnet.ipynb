{
 "cells": [
  {
   "cell_type": "code",
   "execution_count": 1,
   "metadata": {},
   "outputs": [
    {
     "name": "stderr",
     "output_type": "stream",
     "text": [
      "/home/barney_awesome_li/anaconda3/envs/tfgpu/lib/python3.6/importlib/_bootstrap.py:219: RuntimeWarning: compiletime version 3.5 of module 'tensorflow.python.framework.fast_tensor_util' does not match runtime version 3.6\n",
      "  return f(*args, **kwds)\n"
     ]
    }
   ],
   "source": [
    "import tensorflow as tf\n",
    "import pandas as pd\n",
    "import matplotlib.pyplot as plt\n",
    "import numpy as np\n",
    "import resnet_model\n",
    "import os\n",
    "\n",
    "%matplotlib inline"
   ]
  },
  {
   "cell_type": "code",
   "execution_count": 2,
   "metadata": {
    "collapsed": true
   },
   "outputs": [],
   "source": [
    "#os.environ['CUDA_VISIBLE_DEVICES'] = '-1'"
   ]
  },
  {
   "cell_type": "code",
   "execution_count": 3,
   "metadata": {
    "collapsed": true
   },
   "outputs": [],
   "source": [
    "# Load training data set\n",
    "train = pd.read_json('../data/train.json')"
   ]
  },
  {
   "cell_type": "code",
   "execution_count": 4,
   "metadata": {},
   "outputs": [
    {
     "name": "stdout",
     "output_type": "stream",
     "text": [
      "                                              band_1  \\\n",
      "0  [-27.878360999999998, -27.15416, -28.668615, -...   \n",
      "1  [-12.242375, -14.920304999999999, -14.920363, ...   \n",
      "2  [-24.603676, -24.603714, -24.871029, -23.15277...   \n",
      "3  [-22.454607, -23.082819, -23.998013, -23.99805...   \n",
      "4  [-26.006956, -23.164886, -23.164886, -26.89116...   \n",
      "\n",
      "                                              band_2        id inc_angle  \\\n",
      "0  [-27.154118, -29.537888, -31.0306, -32.190483,...  dfd5f913   43.9239   \n",
      "1  [-31.506321, -27.984554, -26.645678, -23.76760...  e25388fd   38.1562   \n",
      "2  [-24.870956, -24.092632, -20.653963, -19.41104...  58b2aaa0   45.2859   \n",
      "3  [-27.889421, -27.519794, -27.165262, -29.10350...  4cfc3a18   43.8306   \n",
      "4  [-27.206915, -30.259186, -30.259186, -23.16495...  271f93f4   35.6256   \n",
      "\n",
      "   is_iceberg  \n",
      "0           0  \n",
      "1           0  \n",
      "2           1  \n",
      "3           0  \n",
      "4           0  \n"
     ]
    }
   ],
   "source": [
    "print(train.head())"
   ]
  },
  {
   "cell_type": "code",
   "execution_count": 5,
   "metadata": {},
   "outputs": [],
   "source": [
    "# re-order the training set\n",
    "# order_num = np.random.rand(train.shape[0])\n",
    "# train['order'] = order_num\n",
    "# train.sort_values('order', axis=0, inplace=True)\n",
    "# print(train.head())"
   ]
  },
  {
   "cell_type": "code",
   "execution_count": 6,
   "metadata": {},
   "outputs": [
    {
     "name": "stdout",
     "output_type": "stream",
     "text": [
      "(1604, 2)\n"
     ]
    }
   ],
   "source": [
    "raw_y = train['is_iceberg'].tolist()\n",
    "tensor_y = tf.one_hot(raw_y, depth=2)\n",
    "with tf.Session() as sess:\n",
    "    total_y = np.array(sess.run(tensor_y))\n",
    "print(total_y.shape)"
   ]
  },
  {
   "cell_type": "code",
   "execution_count": 7,
   "metadata": {},
   "outputs": [
    {
     "name": "stdout",
     "output_type": "stream",
     "text": [
      "(1604, 5625)\n"
     ]
    }
   ],
   "source": [
    "raw_x_1 = np.array(train['band_1'].tolist())\n",
    "raw_x_2 = np.array(train['band_2'].tolist())\n",
    "total_x = np.concatenate((raw_x_1, raw_x_2), axis = 1)\n",
    "total_x = raw_x_1\n",
    "print(total_x.shape)"
   ]
  },
  {
   "cell_type": "code",
   "execution_count": 8,
   "metadata": {},
   "outputs": [
    {
     "name": "stdout",
     "output_type": "stream",
     "text": [
      "(300, 5625)\n",
      "(1304, 5625)\n",
      "(1304, 2)\n"
     ]
    }
   ],
   "source": [
    "dev_x = total_x[0:300,:]\n",
    "dev_y = total_y[0:300,:]\n",
    "print(dev_x.shape)\n",
    "train_x = total_x[300:,:]\n",
    "train_y = total_y[300:,:]\n",
    "print(train_x.shape)\n",
    "print(train_y.shape)"
   ]
  },
  {
   "cell_type": "code",
   "execution_count": 9,
   "metadata": {
    "collapsed": true
   },
   "outputs": [],
   "source": [
    "class MiniBatch(object):\n",
    "    def __init__(self, x, y, batch_size):\n",
    "        self.generator = self.slice_random(x, y, batch_size)\n",
    "    \n",
    "    def next_batch(self):\n",
    "        try:\n",
    "            return(next(self.generator))\n",
    "        except StopIteration as e:\n",
    "            return None, None\n",
    "        \n",
    "    @staticmethod    \n",
    "    def slice_random(X, Y, mini_batch_size):\n",
    "        tmp_X = X.copy()\n",
    "        tmp_Y = Y.copy()\n",
    "        cur_index = 0\n",
    "        while(tmp_X.shape[0]>0):\n",
    "            pick_size = tmp_X.shape[0] if tmp_X.shape[0]<mini_batch_size else mini_batch_size\n",
    "            mini_batch_x = tmp_X[cur_index:cur_index + pick_size,:]\n",
    "            mini_batch_y = tmp_Y[cur_index:cur_index + pick_size,:]\n",
    "            cur_index += pick_size\n",
    "            yield mini_batch_x, mini_batch_y"
   ]
  },
  {
   "cell_type": "code",
   "execution_count": 10,
   "metadata": {
    "collapsed": true
   },
   "outputs": [],
   "source": [
    "# test\n",
    "test_mini_batch = MiniBatch(dev_x, dev_y, 50)\n"
   ]
  },
  {
   "cell_type": "code",
   "execution_count": 11,
   "metadata": {
    "collapsed": true
   },
   "outputs": [],
   "source": [
    "with tf.name_scope('reshape'):\n",
    "    x_in = tf.placeholder(tf.float32)\n",
    "    y_in = tf.placeholder(tf.float32)\n",
    "    x = tf.image.resize_image_with_crop_or_pad(tf.reshape(x_in, [-1,75,75,1]), 256, 256) \n",
    "    y = tf.reshape(y_in, [-1, 2])"
   ]
  },
  {
   "cell_type": "code",
   "execution_count": 12,
   "metadata": {
    "collapsed": true
   },
   "outputs": [],
   "source": [
    "with tf.name_scope('resnet'):\n",
    "    y_generator = resnet_model.imagenet_resnet_v2(18, 2, 'channels_last')\n",
    "    y_ = y_generator(x, True)"
   ]
  },
  {
   "cell_type": "code",
   "execution_count": 13,
   "metadata": {
    "collapsed": true
   },
   "outputs": [],
   "source": [
    "with tf.name_scope('cost'):\n",
    "    cost = tf.reduce_mean(tf.nn.softmax_cross_entropy_with_logits(logits=y_, labels=y))"
   ]
  },
  {
   "cell_type": "code",
   "execution_count": 14,
   "metadata": {
    "collapsed": true
   },
   "outputs": [],
   "source": [
    "with tf.name_scope('optimizer'):\n",
    "    optimizer = tf.train.AdamOptimizer().minimize(cost)"
   ]
  },
  {
   "cell_type": "code",
   "execution_count": 15,
   "metadata": {
    "collapsed": true
   },
   "outputs": [],
   "source": [
    "with tf.name_scope('accuracy'):\n",
    "    correct_prediction = tf.equal(tf.argmax(y, 1), tf.argmax(y_,1))\n",
    "    correct_prediction = tf.cast(correct_prediction, tf.float32)\n",
    "    accuracy = tf.reduce_mean(correct_prediction)"
   ]
  },
  {
   "cell_type": "code",
   "execution_count": 16,
   "metadata": {
    "collapsed": true
   },
   "outputs": [],
   "source": [
    "# # normal training\n",
    "# with tf.Session() as sess:\n",
    "#     sess.run(tf.global_variables_initializer())\n",
    "#     tf.add_to_collection('accuracy', accuracy)\n",
    "#     tf.add_to_collection('y_', y_)\n",
    "#     tf.add_to_collection('x_in', x_in)\n",
    "#     tf.add_to_collection('y_in', y_in)\n",
    "#     # writer = tf.summary.FileWriter('./logs',sess.graph)\n",
    "#     for i in range(1001):\n",
    "#         minibatch = MiniBatch(train_x, train_y, 64)\n",
    "#         x_batch,y_batch = minibatch.next_batch()\n",
    "#         if x_batch is None or x_batch.shape[0]<64:\n",
    "#             minibatch = MiniBatch(train_x, train_y, 64)\n",
    "#             x_batch,y_batch = minibatch.next_batch()\n",
    "#         # print('minibatch size {} and {}'.format(x_batch.shape, y_batch.shape))\n",
    "#         if i%100 == 0:\n",
    "#             testMiniBatch = MiniBatch(dev_x, dev_y, 64)\n",
    "#             x_batch_test, y_batch_test = testMiniBatch.next_batch()\n",
    "#             if x_batch_test is None or x_batch_test.shape[0]<64:\n",
    "#                 testMiniBatch = MiniBatch(dev_x, dev_y, 64)\n",
    "#                 x_batch_test, y_batch_test = testMiniBatch.next_batch()\n",
    "#             train_accuracy = accuracy.eval(session=sess,\n",
    "#                                             feed_dict={\n",
    "#                                                 x_in:x_batch_test, y_in:y_batch_test\n",
    "#                                             })\n",
    "#             print('step {}, training accuracy {}'.format(i, train_accuracy))\n",
    "#             print('test accuracy {}'.format(accuracy.eval(session=sess, feed_dict={x_in: dev_x , y_in: dev_y})))\n",
    "#             saver = tf.train.Saver()\n",
    "#             saved_path = saver.save(sess, './models/{}.ckpt'.format(i))\n",
    "#             print('model saved to {}'.format(saved_path))\n",
    "#         sess.run(optimizer, feed_dict={x_in:x_batch, y_in:y_batch})\n",
    "#     # writer.close()\n",
    "#     print('test accuracy {}'.format(accuracy.eval(session=sess, feed_dict={x_in: dev_x , y_in: dev_y})))\n",
    "    "
   ]
  },
  {
   "cell_type": "code",
   "execution_count": null,
   "metadata": {},
   "outputs": [],
   "source": [
    "# # training with 2 image\n",
    "# with tf.Session() as sess:\n",
    "#     sess.run(tf.global_variables_initializer())\n",
    "#     tf.add_to_collection('accuracy', accuracy)\n",
    "#     tf.add_to_collection('y_', y_)\n",
    "#     tf.add_to_collection('x_in', x_in)\n",
    "#     tf.add_to_collection('y_in', y_in)\n",
    "#     minibatch = MiniBatch(train_x, train_y, 64)\n",
    "#     x_batch,y_batch = minibatch.next_batch()\n",
    "#     for i in range(1001):\n",
    "#         if i%10 == 0:\n",
    "#             train_accuracy = accuracy.eval(session=sess,\n",
    "#                                             feed_dict={\n",
    "#                                                 x_in:x_batch, y_in:y_batch\n",
    "#                                             })\n",
    "#             print('step {}, training accuracy {}'.format(i, train_accuracy))\n",
    "#             saver = tf.train.Saver()\n",
    "#             saved_path = saver.save(sess, './models/{}.ckpt'.format(i))\n",
    "#             print('model saved to {}'.format(saved_path))\n",
    "#         sess.run(optimizer, feed_dict={x_in:x_batch, y_in:y_batch})\n",
    "#     print('test accuracy {}'.format(accuracy.eval(session=sess, feed_dict={x_in: dev_x , y_in: dev_y})))"
   ]
  },
  {
   "cell_type": "code",
   "execution_count": null,
   "metadata": {},
   "outputs": [
    {
     "name": "stdout",
     "output_type": "stream",
     "text": [
      "epoch 0, training accuracy 1.0\n",
      "test accuracy 0.5\n",
      "model saved to ./models/0.ckpt\n",
      "epoch 1, training accuracy 0.234375\n",
      "test accuracy 0.7166666388511658\n",
      "model saved to ./models/1.ckpt\n",
      "epoch 2, training accuracy 0.796875\n",
      "test accuracy 0.653333306312561\n",
      "model saved to ./models/2.ckpt\n",
      "epoch 3, training accuracy 0.828125\n",
      "test accuracy 0.7366666793823242\n",
      "model saved to ./models/3.ckpt\n",
      "epoch 4, training accuracy 0.859375\n",
      "test accuracy 0.7133333086967468\n",
      "model saved to ./models/4.ckpt\n",
      "epoch 5, training accuracy 0.90625\n",
      "test accuracy 0.7666666507720947\n",
      "model saved to ./models/5.ckpt\n",
      "epoch 6, training accuracy 0.875\n",
      "test accuracy 0.7766666412353516\n",
      "model saved to ./models/6.ckpt\n",
      "epoch 7, training accuracy 0.9375\n",
      "test accuracy 0.7766666412353516\n",
      "model saved to ./models/7.ckpt\n",
      "epoch 8, training accuracy 0.84375\n",
      "test accuracy 0.846666693687439\n",
      "model saved to ./models/8.ckpt\n",
      "epoch 9, training accuracy 0.859375\n",
      "test accuracy 0.8266666531562805\n",
      "model saved to ./models/9.ckpt\n",
      "epoch 10, training accuracy 0.890625\n",
      "test accuracy 0.7933333516120911\n",
      "model saved to ./models/10.ckpt\n",
      "epoch 11, training accuracy 0.875\n",
      "test accuracy 0.7866666913032532\n",
      "model saved to ./models/11.ckpt\n",
      "epoch 12, training accuracy 0.90625\n",
      "test accuracy 0.8233333230018616\n",
      "model saved to ./models/12.ckpt\n",
      "epoch 13, training accuracy 0.875\n",
      "test accuracy 0.8366666436195374\n",
      "model saved to ./models/13.ckpt\n",
      "epoch 14, training accuracy 0.921875\n",
      "test accuracy 0.8100000023841858\n",
      "model saved to ./models/14.ckpt\n",
      "epoch 15, training accuracy 0.96875\n",
      "test accuracy 0.746666669845581\n",
      "model saved to ./models/15.ckpt\n",
      "epoch 16, training accuracy 0.90625\n",
      "test accuracy 0.7933333516120911\n",
      "model saved to ./models/16.ckpt\n",
      "epoch 17, training accuracy 0.859375\n",
      "test accuracy 0.79666668176651\n",
      "model saved to ./models/17.ckpt\n",
      "epoch 18, training accuracy 0.96875\n",
      "test accuracy 0.8133333325386047\n",
      "model saved to ./models/18.ckpt\n",
      "epoch 19, training accuracy 0.953125\n",
      "test accuracy 0.8133333325386047\n",
      "model saved to ./models/19.ckpt\n",
      "epoch 20, training accuracy 0.9375\n",
      "test accuracy 0.7766666412353516\n",
      "model saved to ./models/20.ckpt\n",
      "epoch 21, training accuracy 0.953125\n",
      "test accuracy 0.8166666626930237\n",
      "model saved to ./models/21.ckpt\n",
      "epoch 22, training accuracy 0.96875\n",
      "test accuracy 0.7900000214576721\n",
      "model saved to ./models/22.ckpt\n",
      "epoch 23, training accuracy 0.953125\n",
      "test accuracy 0.8133333325386047\n",
      "model saved to ./models/23.ckpt\n",
      "epoch 24, training accuracy 0.9375\n",
      "test accuracy 0.8066666722297668\n",
      "model saved to ./models/24.ckpt\n",
      "epoch 25, training accuracy 0.953125\n",
      "test accuracy 0.7833333611488342\n",
      "model saved to ./models/25.ckpt\n",
      "epoch 26, training accuracy 0.984375\n",
      "test accuracy 0.8133333325386047\n",
      "model saved to ./models/26.ckpt\n",
      "epoch 27, training accuracy 0.96875\n",
      "test accuracy 0.8133333325386047\n",
      "model saved to ./models/27.ckpt\n",
      "epoch 28, training accuracy 1.0\n",
      "test accuracy 0.8066666722297668\n",
      "model saved to ./models/28.ckpt\n",
      "epoch 29, training accuracy 1.0\n",
      "test accuracy 0.8199999928474426\n",
      "model saved to ./models/29.ckpt\n",
      "epoch 30, training accuracy 0.96875\n",
      "test accuracy 0.8199999928474426\n",
      "model saved to ./models/30.ckpt\n",
      "epoch 31, training accuracy 0.96875\n",
      "test accuracy 0.8166666626930237\n",
      "model saved to ./models/31.ckpt\n",
      "epoch 32, training accuracy 0.984375\n",
      "test accuracy 0.8199999928474426\n",
      "model saved to ./models/32.ckpt\n",
      "epoch 33, training accuracy 1.0\n",
      "test accuracy 0.8199999928474426\n",
      "model saved to ./models/33.ckpt\n",
      "epoch 34, training accuracy 1.0\n",
      "test accuracy 0.800000011920929\n",
      "model saved to ./models/34.ckpt\n",
      "epoch 35, training accuracy 0.984375\n",
      "test accuracy 0.8433333039283752\n",
      "model saved to ./models/35.ckpt\n",
      "epoch 36, training accuracy 0.96875\n",
      "test accuracy 0.8199999928474426\n",
      "model saved to ./models/36.ckpt\n",
      "epoch 37, training accuracy 1.0\n",
      "test accuracy 0.8266666531562805\n",
      "model saved to ./models/37.ckpt\n",
      "epoch 38, training accuracy 0.96875\n",
      "test accuracy 0.7866666913032532\n",
      "model saved to ./models/38.ckpt\n",
      "epoch 39, training accuracy 1.0\n",
      "test accuracy 0.8233333230018616\n",
      "model saved to ./models/39.ckpt\n",
      "epoch 40, training accuracy 1.0\n",
      "test accuracy 0.8133333325386047\n",
      "model saved to ./models/40.ckpt\n",
      "epoch 41, training accuracy 1.0\n",
      "test accuracy 0.8100000023841858\n",
      "model saved to ./models/41.ckpt\n",
      "epoch 42, training accuracy 1.0\n",
      "test accuracy 0.8266666531562805\n",
      "model saved to ./models/42.ckpt\n",
      "epoch 43, training accuracy 1.0\n",
      "test accuracy 0.7900000214576721\n",
      "model saved to ./models/43.ckpt\n",
      "epoch 44, training accuracy 1.0\n",
      "test accuracy 0.8233333230018616\n",
      "model saved to ./models/44.ckpt\n",
      "epoch 45, training accuracy 1.0\n",
      "test accuracy 0.8333333134651184\n",
      "model saved to ./models/45.ckpt\n",
      "epoch 46, training accuracy 0.953125\n",
      "test accuracy 0.8366666436195374\n",
      "model saved to ./models/46.ckpt\n",
      "epoch 47, training accuracy 1.0\n",
      "test accuracy 0.8700000047683716\n",
      "model saved to ./models/47.ckpt\n",
      "epoch 48, training accuracy 1.0\n",
      "test accuracy 0.8133333325386047\n",
      "model saved to ./models/48.ckpt\n",
      "epoch 49, training accuracy 1.0\n",
      "test accuracy 0.8433333039283752\n",
      "model saved to ./models/49.ckpt\n",
      "epoch 50, training accuracy 1.0\n",
      "test accuracy 0.8666666746139526\n",
      "model saved to ./models/50.ckpt\n",
      "epoch 51, training accuracy 1.0\n",
      "test accuracy 0.8433333039283752\n",
      "model saved to ./models/51.ckpt\n",
      "epoch 52, training accuracy 0.984375\n",
      "test accuracy 0.8299999833106995\n",
      "model saved to ./models/52.ckpt\n",
      "epoch 53, training accuracy 1.0\n",
      "test accuracy 0.8399999737739563\n",
      "model saved to ./models/53.ckpt\n",
      "epoch 54, training accuracy 1.0\n",
      "test accuracy 0.846666693687439\n",
      "model saved to ./models/54.ckpt\n",
      "epoch 55, training accuracy 1.0\n",
      "test accuracy 0.8333333134651184\n",
      "model saved to ./models/55.ckpt\n",
      "epoch 56, training accuracy 0.96875\n",
      "test accuracy 0.8666666746139526\n",
      "model saved to ./models/56.ckpt\n",
      "epoch 57, training accuracy 0.96875\n",
      "test accuracy 0.8333333134651184\n",
      "model saved to ./models/57.ckpt\n",
      "epoch 58, training accuracy 1.0\n",
      "test accuracy 0.8600000143051147\n",
      "model saved to ./models/58.ckpt\n",
      "epoch 59, training accuracy 0.96875\n",
      "test accuracy 0.846666693687439\n",
      "model saved to ./models/59.ckpt\n",
      "epoch 60, training accuracy 1.0\n",
      "test accuracy 0.846666693687439\n",
      "model saved to ./models/60.ckpt\n",
      "epoch 61, training accuracy 1.0\n",
      "test accuracy 0.8600000143051147\n",
      "model saved to ./models/61.ckpt\n",
      "epoch 62, training accuracy 1.0\n",
      "test accuracy 0.846666693687439\n",
      "model saved to ./models/62.ckpt\n",
      "epoch 63, training accuracy 0.984375\n",
      "test accuracy 0.8299999833106995\n",
      "model saved to ./models/63.ckpt\n",
      "epoch 64, training accuracy 0.96875\n",
      "test accuracy 0.8333333134651184\n",
      "model saved to ./models/64.ckpt\n",
      "epoch 65, training accuracy 0.96875\n",
      "test accuracy 0.8566666841506958\n",
      "model saved to ./models/65.ckpt\n",
      "epoch 66, training accuracy 1.0\n",
      "test accuracy 0.8633333444595337\n"
     ]
    }
   ],
   "source": [
    "# batch gradient descent without random shuffle\n",
    "with tf.Session() as sess:\n",
    "    sess.run(tf.global_variables_initializer())\n",
    "    tf.add_to_collection('accuracy', accuracy)\n",
    "    tf.add_to_collection('y_', y_)\n",
    "    tf.add_to_collection('x_in', x_in)\n",
    "    tf.add_to_collection('y_in', y_in)\n",
    "    # epoch\n",
    "    batch_size = 64\n",
    "    for i in range(1001):\n",
    "        for j in range(int(train_x.shape[0] / 64)):\n",
    "            x_batch = train_x[j * batch_size: (j+1) * batch_size]\n",
    "            y_batch = train_y[j * batch_size: (j+1) * batch_size]\n",
    "            sess.run(optimizer, feed_dict={x_in:x_batch, y_in:y_batch})\n",
    "        # print accuracy after each epoch\n",
    "        train_accuracy = accuracy.eval(session=sess,\n",
    "                                        feed_dict={\n",
    "                                            x_in:x_batch, y_in:y_batch\n",
    "                                        })\n",
    "        print('epoch {}, training accuracy {}'.format(i, train_accuracy))\n",
    "        print('test accuracy {}'.format(accuracy.eval(session=sess, feed_dict={x_in: dev_x , y_in: dev_y})))\n",
    "        saver = tf.train.Saver()\n",
    "        saved_path = saver.save(sess, './models/{}.ckpt'.format(i))\n",
    "        print('model saved to {}'.format(saved_path))"
   ]
  },
  {
   "cell_type": "code",
   "execution_count": null,
   "metadata": {},
   "outputs": [],
   "source": [
    "int(10.5/2)"
   ]
  },
  {
   "cell_type": "code",
   "execution_count": null,
   "metadata": {},
   "outputs": [],
   "source": [
    "# with tf.Session() as sess:\n",
    "#     saver = tf.train.import_meta_graph('./models/30.ckpt.meta')\n",
    "#     saver.restore(sess, './models/30.ckpt')\n",
    "#     accuracy = tf.get_collection('accuracy')[0]\n",
    "#     x_in = tf.get_collection('x_in')[0]\n",
    "#     y_in = tf.get_collection('y_in')[0]\n",
    "#     print('model restored')\n",
    "#     print('test accuracy {}'.format(accuracy.eval(session=sess, feed_dict={x_in:dev_x[0:64], y_in:dev_y[0:64]})))"
   ]
  },
  {
   "cell_type": "code",
   "execution_count": null,
   "metadata": {
    "collapsed": true
   },
   "outputs": [],
   "source": [
    "# with tf.Session() as sess:\n",
    "#     sess.run(tf.global_variables_initializer())\n",
    "#     writer = tf.summary.FileWriter('../logs',sess.graph)\n",
    "#     accuracy_res = accuracy.eval(session=sess, feed_dict={x_in:train_x[0:10], y_in:train_y[0:10]})\n",
    "#     print(accuracy_res)\n",
    "#     writer.close()"
   ]
  },
  {
   "cell_type": "code",
   "execution_count": null,
   "metadata": {
    "collapsed": true
   },
   "outputs": [],
   "source": []
  }
 ],
 "metadata": {
  "kernelspec": {
   "display_name": "Python 3",
   "language": "python",
   "name": "python3"
  },
  "language_info": {
   "codemirror_mode": {
    "name": "ipython",
    "version": 3
   },
   "file_extension": ".py",
   "mimetype": "text/x-python",
   "name": "python",
   "nbconvert_exporter": "python",
   "pygments_lexer": "ipython3",
   "version": "3.6.3"
  }
 },
 "nbformat": 4,
 "nbformat_minor": 2
}
