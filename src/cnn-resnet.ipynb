{
 "cells": [
  {
   "cell_type": "code",
   "execution_count": 1,
   "metadata": {},
   "outputs": [
    {
     "name": "stderr",
     "output_type": "stream",
     "text": [
      "/home/barney_awesome_li/anaconda3/envs/tfgpu/lib/python3.6/importlib/_bootstrap.py:219: RuntimeWarning: compiletime version 3.5 of module 'tensorflow.python.framework.fast_tensor_util' does not match runtime version 3.6\n",
      "  return f(*args, **kwds)\n"
     ]
    }
   ],
   "source": [
    "import tensorflow as tf\n",
    "import pandas as pd\n",
    "import matplotlib.pyplot as plt\n",
    "import numpy as np\n",
    "import resnet_model\n",
    "import os\n",
    "\n",
    "%matplotlib inline"
   ]
  },
  {
   "cell_type": "code",
   "execution_count": 2,
   "metadata": {
    "collapsed": true
   },
   "outputs": [],
   "source": [
    "#os.environ['CUDA_VISIBLE_DEVICES'] = '-1'"
   ]
  },
  {
   "cell_type": "code",
   "execution_count": 3,
   "metadata": {
    "collapsed": true
   },
   "outputs": [],
   "source": [
    "# Load training data set\n",
    "train = pd.read_json('../data/train.json')"
   ]
  },
  {
   "cell_type": "code",
   "execution_count": 4,
   "metadata": {},
   "outputs": [
    {
     "name": "stdout",
     "output_type": "stream",
     "text": [
      "                                              band_1  \\\n",
      "0  [-27.878360999999998, -27.15416, -28.668615, -...   \n",
      "1  [-12.242375, -14.920304999999999, -14.920363, ...   \n",
      "2  [-24.603676, -24.603714, -24.871029, -23.15277...   \n",
      "3  [-22.454607, -23.082819, -23.998013, -23.99805...   \n",
      "4  [-26.006956, -23.164886, -23.164886, -26.89116...   \n",
      "\n",
      "                                              band_2        id inc_angle  \\\n",
      "0  [-27.154118, -29.537888, -31.0306, -32.190483,...  dfd5f913   43.9239   \n",
      "1  [-31.506321, -27.984554, -26.645678, -23.76760...  e25388fd   38.1562   \n",
      "2  [-24.870956, -24.092632, -20.653963, -19.41104...  58b2aaa0   45.2859   \n",
      "3  [-27.889421, -27.519794, -27.165262, -29.10350...  4cfc3a18   43.8306   \n",
      "4  [-27.206915, -30.259186, -30.259186, -23.16495...  271f93f4   35.6256   \n",
      "\n",
      "   is_iceberg  \n",
      "0           0  \n",
      "1           0  \n",
      "2           1  \n",
      "3           0  \n",
      "4           0  \n"
     ]
    }
   ],
   "source": [
    "print(train.head())"
   ]
  },
  {
   "cell_type": "code",
   "execution_count": 5,
   "metadata": {},
   "outputs": [
    {
     "name": "stdout",
     "output_type": "stream",
     "text": [
      "                                                 band_1  \\\n",
      "517   [-22.912132, -22.103603, -23.572226, -24.04189...   \n",
      "607   [-16.1071, -19.369699, -22.577993, -20.602985,...   \n",
      "1219  [-24.44771, -21.25375, -19.315607, -18.671972,...   \n",
      "406   [-16.044106, -14.972523, -13.678087, -16.3116,...   \n",
      "720   [-17.194717, -14.107332, -13.673001, -14.64330...   \n",
      "\n",
      "                                                 band_2        id inc_angle  \\\n",
      "517   [-24.538231, -26.224693, -28.319445, -30.06249...  7a665fa2   43.2697   \n",
      "607   [-28.415577, -27.076717, -24.655916, -22.39520...  f09265ef   34.0171   \n",
      "1219  [-26.031334, -25.203537, -25.746641, -31.49153...  390938d4   38.4741   \n",
      "406   [-22.892561, -21.471365, -23.0879, -24.830975,...  a63467f2   34.8705   \n",
      "720   [-24.10696, -24.589689, -26.84383, -22.801788,...  f10fcdd5   39.6622   \n",
      "\n",
      "      is_iceberg     order  \n",
      "517            0  0.000305  \n",
      "607            1  0.001021  \n",
      "1219           1  0.001623  \n",
      "406            0  0.002420  \n",
      "720            0  0.002559  \n"
     ]
    }
   ],
   "source": [
    "order_num = np.random.rand(train.shape[0])\n",
    "train['order'] = order_num\n",
    "train.sort_values('order', axis=0, inplace=True)\n",
    "print(train.head())"
   ]
  },
  {
   "cell_type": "code",
   "execution_count": 6,
   "metadata": {},
   "outputs": [
    {
     "name": "stdout",
     "output_type": "stream",
     "text": [
      "(1604, 2)\n"
     ]
    }
   ],
   "source": [
    "raw_y = train['is_iceberg'].tolist()\n",
    "tensor_y = tf.one_hot(raw_y, depth=2)\n",
    "with tf.Session() as sess:\n",
    "    total_y = np.array(sess.run(tensor_y))\n",
    "print(total_y.shape)"
   ]
  },
  {
   "cell_type": "code",
   "execution_count": 7,
   "metadata": {},
   "outputs": [
    {
     "name": "stdout",
     "output_type": "stream",
     "text": [
      "(1604, 5625)\n"
     ]
    }
   ],
   "source": [
    "raw_x_1 = np.array(train['band_1'].tolist())\n",
    "raw_x_2 = np.array(train['band_2'].tolist())\n",
    "total_x = np.concatenate((raw_x_1, raw_x_2), axis = 1)\n",
    "total_x = raw_x_1\n",
    "print(total_x.shape)"
   ]
  },
  {
   "cell_type": "code",
   "execution_count": 8,
   "metadata": {},
   "outputs": [
    {
     "name": "stdout",
     "output_type": "stream",
     "text": [
      "(300, 5625)\n",
      "(1304, 5625)\n",
      "(1304, 2)\n"
     ]
    }
   ],
   "source": [
    "dev_x = total_x[0:300,:]\n",
    "dev_y = total_y[0:300,:]\n",
    "print(dev_x.shape)\n",
    "train_x = total_x[300:,:]\n",
    "train_y = total_y[300:,:]\n",
    "print(train_x.shape)\n",
    "print(train_y.shape)"
   ]
  },
  {
   "cell_type": "code",
   "execution_count": 9,
   "metadata": {
    "collapsed": true
   },
   "outputs": [],
   "source": [
    "class MiniBatch(object):\n",
    "    def __init__(self, x, y, batch_size):\n",
    "        self.generator = self.slice_random(x, y, batch_size)\n",
    "    \n",
    "    def next_batch(self):\n",
    "        try:\n",
    "            return(next(self.generator))\n",
    "        except StopIteration as e:\n",
    "            return None, None\n",
    "        \n",
    "    @staticmethod    \n",
    "    def slice_random(X, Y, mini_batch_size):\n",
    "        tmp_X = X.copy()\n",
    "        tmp_Y = Y.copy()\n",
    "        cur_index = 0\n",
    "        while(tmp_X.shape[0]>0):\n",
    "            pick_size = tmp_X.shape[0] if tmp_X.shape[0]<mini_batch_size else mini_batch_size\n",
    "            mini_batch_x = tmp_X[cur_index:cur_index + pick_size,:]\n",
    "            mini_batch_y = tmp_Y[cur_index:cur_index + pick_size,:]\n",
    "            cur_index += pick_size\n",
    "            yield mini_batch_x, mini_batch_y"
   ]
  },
  {
   "cell_type": "code",
   "execution_count": 10,
   "metadata": {
    "collapsed": true
   },
   "outputs": [],
   "source": [
    "# test\n",
    "test_mini_batch = MiniBatch(dev_x, dev_y, 50)\n"
   ]
  },
  {
   "cell_type": "code",
   "execution_count": 11,
   "metadata": {
    "collapsed": true
   },
   "outputs": [],
   "source": [
    "with tf.name_scope('reshape'):\n",
    "    x_in = tf.placeholder(tf.float32)\n",
    "    y_in = tf.placeholder(tf.float32)\n",
    "    x = tf.image.resize_image_with_crop_or_pad(tf.reshape(x_in, [-1,75,75,1]), 256, 256) \n",
    "    y = tf.reshape(y_in, [-1, 2])"
   ]
  },
  {
   "cell_type": "code",
   "execution_count": 12,
   "metadata": {
    "collapsed": true
   },
   "outputs": [],
   "source": [
    "with tf.name_scope('resnet'):\n",
    "    y_generator = resnet_model.imagenet_resnet_v2(18, 2, 'channels_last')\n",
    "    y_ = y_generator(x, True)"
   ]
  },
  {
   "cell_type": "code",
   "execution_count": 13,
   "metadata": {
    "collapsed": true
   },
   "outputs": [],
   "source": [
    "with tf.name_scope('cost'):\n",
    "    cost = tf.reduce_mean(tf.nn.softmax_cross_entropy_with_logits(logits=y_, labels=y))"
   ]
  },
  {
   "cell_type": "code",
   "execution_count": 14,
   "metadata": {
    "collapsed": true
   },
   "outputs": [],
   "source": [
    "with tf.name_scope('optimizer'):\n",
    "    optimizer = tf.train.AdamOptimizer().minimize(cost)"
   ]
  },
  {
   "cell_type": "code",
   "execution_count": 15,
   "metadata": {
    "collapsed": true
   },
   "outputs": [],
   "source": [
    "with tf.name_scope('accuracy'):\n",
    "    correct_prediction = tf.equal(tf.argmax(y, 1), tf.argmax(y_,1))\n",
    "    correct_prediction = tf.cast(correct_prediction, tf.float32)\n",
    "    accuracy = tf.reduce_mean(correct_prediction)"
   ]
  },
  {
   "cell_type": "code",
   "execution_count": 16,
   "metadata": {},
   "outputs": [
    {
     "name": "stdout",
     "output_type": "stream",
     "text": [
      "step 0, training accuracy 0.421875\n",
      "test accuracy 0.4699999988079071\n",
      "model saved to ./models/0.ckpt\n",
      "step 100, training accuracy 0.609375\n",
      "test accuracy 0.5766666531562805\n",
      "model saved to ./models/100.ckpt\n",
      "step 200, training accuracy 0.609375\n",
      "test accuracy 0.5699999928474426\n",
      "model saved to ./models/200.ckpt\n",
      "step 300, training accuracy 0.609375\n",
      "test accuracy 0.5733333230018616\n",
      "model saved to ./models/300.ckpt\n",
      "step 400, training accuracy 0.609375\n",
      "test accuracy 0.5699999928474426\n",
      "model saved to ./models/400.ckpt\n",
      "step 500, training accuracy 0.609375\n",
      "test accuracy 0.5666666626930237\n",
      "model saved to ./models/500.ckpt\n",
      "step 600, training accuracy 0.625\n",
      "test accuracy 0.5633333325386047\n",
      "model saved to ./models/600.ckpt\n",
      "step 700, training accuracy 0.625\n",
      "test accuracy 0.5666666626930237\n",
      "model saved to ./models/700.ckpt\n",
      "step 800, training accuracy 0.625\n",
      "test accuracy 0.5666666626930237\n",
      "model saved to ./models/800.ckpt\n",
      "step 900, training accuracy 0.625\n",
      "test accuracy 0.5666666626930237\n",
      "model saved to ./models/900.ckpt\n",
      "step 1000, training accuracy 0.625\n",
      "test accuracy 0.5666666626930237\n",
      "model saved to ./models/1000.ckpt\n",
      "test accuracy 0.5666666626930237\n"
     ]
    }
   ],
   "source": [
    "with tf.Session() as sess:\n",
    "    sess.run(tf.global_variables_initializer())\n",
    "    tf.add_to_collection('accuracy', accuracy)\n",
    "    tf.add_to_collection('y_', y_)\n",
    "    tf.add_to_collection('x_in', x_in)\n",
    "    tf.add_to_collection('y_in', y_in)\n",
    "    # writer = tf.summary.FileWriter('./logs',sess.graph)\n",
    "    for i in range(1001):\n",
    "        minibatch = MiniBatch(train_x, train_y, 64)\n",
    "        x_batch,y_batch = minibatch.next_batch()\n",
    "        if x_batch is None or x_batch.shape[0]<64:\n",
    "            minibatch = MiniBatch(train_x, train_y, 64)\n",
    "            x_batch,y_batch = minibatch.next_batch()\n",
    "        # print('minibatch size {} and {}'.format(x_batch.shape, y_batch.shape))\n",
    "        if i%100 == 0:\n",
    "            testMiniBatch = MiniBatch(dev_x, dev_y, 64)\n",
    "            x_batch_test, y_batch_test = testMiniBatch.next_batch()\n",
    "            if x_batch_test is None or x_batch_test.shape[0]<64:\n",
    "                testMiniBatch = MiniBatch(dev_x, dev_y, 64)\n",
    "                x_batch_test, y_batch_test = testMiniBatch.next_batch()\n",
    "            train_accuracy = accuracy.eval(session=sess,\n",
    "                                            feed_dict={\n",
    "                                                x_in:x_batch_test, y_in:y_batch_test\n",
    "                                            })\n",
    "            print('step {}, training accuracy {}'.format(i, train_accuracy))\n",
    "            print('test accuracy {}'.format(accuracy.eval(session=sess, feed_dict={x_in: dev_x , y_in: dev_y})))\n",
    "            saver = tf.train.Saver()\n",
    "            saved_path = saver.save(sess, './models/{}.ckpt'.format(i))\n",
    "            print('model saved to {}'.format(saved_path))\n",
    "        sess.run(optimizer, feed_dict={x_in:x_batch, y_in:y_batch})\n",
    "    # writer.close()\n",
    "    print('test accuracy {}'.format(accuracy.eval(session=sess, feed_dict={x_in: dev_x , y_in: dev_y})))\n",
    "    "
   ]
  },
  {
   "cell_type": "code",
   "execution_count": null,
   "metadata": {
    "collapsed": true
   },
   "outputs": [],
   "source": []
  },
  {
   "cell_type": "code",
   "execution_count": 17,
   "metadata": {
    "collapsed": true
   },
   "outputs": [],
   "source": [
    "# with tf.Session() as sess:\n",
    "#     saver = tf.train.import_meta_graph('./models/1st.ckpt.meta')\n",
    "#     saver.restore(sess, './models/1st.ckpt')\n",
    "#     accuracy = tf.get_collection('accuracy')[0]\n",
    "#     print('model restored')\n",
    "#     print('test accuracy {}'.format(accuracy.eval(session=sess, feed_dict={x_in:mnist.test.images, y_in:mnist.test.labels})))"
   ]
  },
  {
   "cell_type": "code",
   "execution_count": 18,
   "metadata": {
    "collapsed": true
   },
   "outputs": [],
   "source": [
    "# with tf.Session() as sess:\n",
    "#     sess.run(tf.global_variables_initializer())\n",
    "#     writer = tf.summary.FileWriter('../logs',sess.graph)\n",
    "#     accuracy_res = accuracy.eval(session=sess, feed_dict={x_in:train_x[0:10], y_in:train_y[0:10]})\n",
    "#     print(accuracy_res)\n",
    "#     writer.close()"
   ]
  },
  {
   "cell_type": "code",
   "execution_count": null,
   "metadata": {
    "collapsed": true
   },
   "outputs": [],
   "source": []
  }
 ],
 "metadata": {
  "kernelspec": {
   "display_name": "Python 3",
   "language": "python",
   "name": "python3"
  },
  "language_info": {
   "codemirror_mode": {
    "name": "ipython",
    "version": 3
   },
   "file_extension": ".py",
   "mimetype": "text/x-python",
   "name": "python",
   "nbconvert_exporter": "python",
   "pygments_lexer": "ipython3",
   "version": "3.6.3"
  }
 },
 "nbformat": 4,
 "nbformat_minor": 2
}
