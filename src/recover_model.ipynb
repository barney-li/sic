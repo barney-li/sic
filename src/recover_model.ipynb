{
 "cells": [
  {
   "cell_type": "code",
   "execution_count": 1,
   "metadata": {
    "collapsed": true
   },
   "outputs": [],
   "source": [
    "import tensorflow as tf\n",
    "import pandas as pd\n",
    "import numpy as np"
   ]
  },
  {
   "cell_type": "code",
   "execution_count": 4,
   "metadata": {},
   "outputs": [
    {
     "name": "stdout",
     "output_type": "stream",
     "text": [
      "                                              band_1  \\\n",
      "0  [-15.863251, -15.201077, -17.887735, -19.17248...   \n",
      "1  [-26.058969497680664, -26.058969497680664, -26...   \n",
      "2  [-14.14109992980957, -15.064241409301758, -17....   \n",
      "3  [-12.167478, -13.706167, -16.54837, -13.572674...   \n",
      "4  [-23.37459373474121, -26.02718162536621, -28.1...   \n",
      "\n",
      "                                              band_2        id  inc_angle  \n",
      "0  [-21.629612, -21.142353, -23.908337, -28.34524...  5941774d  34.966400  \n",
      "1  [-25.754207611083984, -25.754207611083984, -25...  4023181e  32.615072  \n",
      "2  [-14.74563980102539, -14.590410232543945, -14....  b20200e4  37.505433  \n",
      "3  [-24.32222, -26.375538, -24.096739, -23.8769, ...  e7f018bb  34.473900  \n",
      "4  [-25.72234344482422, -27.011577606201172, -23....  4371c8c3  43.918874  \n"
     ]
    }
   ],
   "source": [
    "# Load data set\n",
    "test = pd.read_json('../input/test.json')\n",
    "print(test.head())"
   ]
  },
  {
   "cell_type": "code",
   "execution_count": 5,
   "metadata": {
    "collapsed": true
   },
   "outputs": [],
   "source": [
    "test_x = np.array(test['band_1'].tolist())\n",
    "test_id = np.array(test['id'].tolist())"
   ]
  },
  {
   "cell_type": "code",
   "execution_count": 6,
   "metadata": {},
   "outputs": [
    {
     "name": "stdout",
     "output_type": "stream",
     "text": [
      "                                              band_1  \\\n",
      "0  [-27.878360999999998, -27.15416, -28.668615, -...   \n",
      "1  [-12.242375, -14.920304999999999, -14.920363, ...   \n",
      "2  [-24.603676, -24.603714, -24.871029, -23.15277...   \n",
      "3  [-22.454607, -23.082819, -23.998013, -23.99805...   \n",
      "4  [-26.006956, -23.164886, -23.164886, -26.89116...   \n",
      "\n",
      "                                              band_2        id inc_angle  \\\n",
      "0  [-27.154118, -29.537888, -31.0306, -32.190483,...  dfd5f913   43.9239   \n",
      "1  [-31.506321, -27.984554, -26.645678, -23.76760...  e25388fd   38.1562   \n",
      "2  [-24.870956, -24.092632, -20.653963, -19.41104...  58b2aaa0   45.2859   \n",
      "3  [-27.889421, -27.519794, -27.165262, -29.10350...  4cfc3a18   43.8306   \n",
      "4  [-27.206915, -30.259186, -30.259186, -23.16495...  271f93f4   35.6256   \n",
      "\n",
      "   is_iceberg  \n",
      "0           0  \n",
      "1           0  \n",
      "2           1  \n",
      "3           0  \n",
      "4           0  \n"
     ]
    }
   ],
   "source": [
    "# Load training set\n",
    "train = pd.read_json('../input/train.json')\n",
    "print(train.head())"
   ]
  },
  {
   "cell_type": "code",
   "execution_count": 7,
   "metadata": {
    "collapsed": true
   },
   "outputs": [],
   "source": [
    "train_x = np.array(train['band_1'].tolist())\n",
    "train_y_raw = train['is_iceberg'].tolist()\n",
    "with tf.Session() as sess:\n",
    "    train_y = np.array(sess.run(tf.one_hot(train_y_raw, depth=2)))"
   ]
  },
  {
   "cell_type": "code",
   "execution_count": 11,
   "metadata": {},
   "outputs": [
    {
     "name": "stdout",
     "output_type": "stream",
     "text": [
      "[[ 1.  0.]\n",
      " [ 1.  0.]\n",
      " [ 0.  1.]\n",
      " ..., \n",
      " [ 1.  0.]\n",
      " [ 1.  0.]\n",
      " [ 1.  0.]]\n"
     ]
    }
   ],
   "source": [
    "print(train_y)"
   ]
  },
  {
   "cell_type": "code",
   "execution_count": 9,
   "metadata": {},
   "outputs": [
    {
     "name": "stdout",
     "output_type": "stream",
     "text": [
      "INFO:tensorflow:Restoring parameters from ./models-1/500.ckpt\n",
      "model restored\n",
      "train accuracy 0.7581047415733337\n"
     ]
    }
   ],
   "source": [
    "with tf.Session() as sess:\n",
    "    saver = tf.train.import_meta_graph('./models-1/500.ckpt.meta')\n",
    "    saver.restore(sess, './models-1/500.ckpt')\n",
    "    accuracy = tf.get_collection('accuracy')[0]\n",
    "    x_in = tf.get_collection('x_in')[0]\n",
    "    y_in = tf.get_collection('y_in')[0]\n",
    "    y_ = tf.get_collection('y_')[0]\n",
    "    print('model restored')\n",
    "    print('train accuracy {}'.format(accuracy.eval(session=sess, feed_dict={x_in: train_x , y_in: train_y})))\n",
    "    res = y_.eval(session=sess, feed_dict={x_in: test_x , y_in: test_x})"
   ]
  },
  {
   "cell_type": "code",
   "execution_count": 10,
   "metadata": {},
   "outputs": [
    {
     "data": {
      "text/plain": [
       "array([[ 1.96049464, -6.35906696],\n",
       "       [-3.19852352, -0.1730344 ],\n",
       "       [-0.74397016, -2.80999064],\n",
       "       ..., \n",
       "       [-2.53713512, -2.14637589],\n",
       "       [-1.75007272, -1.12140739],\n",
       "       [-2.83324623,  3.40372324]], dtype=float32)"
      ]
     },
     "execution_count": 10,
     "metadata": {},
     "output_type": "execute_result"
    }
   ],
   "source": [
    "res"
   ]
  },
  {
   "cell_type": "code",
   "execution_count": null,
   "metadata": {
    "collapsed": true
   },
   "outputs": [],
   "source": []
  }
 ],
 "metadata": {
  "kernelspec": {
   "display_name": "Python 3",
   "language": "python",
   "name": "python3"
  },
  "language_info": {
   "codemirror_mode": {
    "name": "ipython",
    "version": 3
   },
   "file_extension": ".py",
   "mimetype": "text/x-python",
   "name": "python",
   "nbconvert_exporter": "python",
   "pygments_lexer": "ipython3",
   "version": "3.6.1"
  }
 },
 "nbformat": 4,
 "nbformat_minor": 2
}
